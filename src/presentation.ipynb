{
 "cells": [
  {
   "cell_type": "markdown",
   "metadata": {
    "editable": false,
    "slideshow": {
     "slide_type": "slide"
    },
    "tags": []
   },
   "source": [
    "# Demystifying Compiler Optimizations\n",
    "\n",
    "This notebook presents an overview of compiler optimizations. We'll discuss what compiler optimizations are, why they're important, and some common types of optimizations. We'll also look at some examples of how these optimizations can be implemented."
   ]
  },
  {
   "cell_type": "markdown",
   "metadata": {
    "editable": false,
    "slideshow": {
     "slide_type": "slide"
    },
    "tags": []
   },
   "source": [
    "## What?\n",
    "- 🏁 Modifying code (source, bytecode, assembly) in order to increase efficiency by some metric\n",
    "- 🌲 **AST transformations**"
   ]
  },
  {
   "cell_type": "markdown",
   "metadata": {
    "editable": false,
    "slideshow": {
     "slide_type": "slide"
    },
    "tags": []
   },
   "source": [
    "## Why?\n",
    "\n",
    "- ⏱️ *Minimize execution time*\n",
    "- 🧠 *Minimize memory usage*\n",
    "- 🤏 *Minimize code size* (e.g. uglification)"
   ]
  },
  {
   "cell_type": "markdown",
   "metadata": {
    "editable": false,
    "slideshow": {
     "slide_type": "slide"
    },
    "tags": []
   },
   "source": [
    "## How?\n",
    "\n",
    "- 🫣 **Peephole Optimization**\n",
    "  - *Constant Folding*\n",
    "  - *Strength Reduction*\n",
    "- 🔄 **Loop Optimization**\n",
    "  - *Loop Unrolling*\n",
    "  - *Loop-Invariant Code Motion*\n",
    "- 📊 **Data Flow Optimization**\n",
    "  - *Constant Propagation*\n",
    "  - *SCCP*\n",
    "- 🎛️ **Control Flow Optimization**\n",
    "  - *Dead Code Elimination*\n",
    "  - *SCCP*\n",
    "- ⓕ **Function Optimization**\n",
    "  - *Inline Expansion*\n",
    "  - *Tail Call Optimization*\n"
   ]
  },
  {
   "cell_type": "markdown",
   "metadata": {
    "editable": false,
    "slideshow": {
     "slide_type": "slide"
    },
    "tags": []
   },
   "source": [
    "## Constant Folding"
   ]
  },
  {
   "cell_type": "code",
   "execution_count": 3,
   "metadata": {
    "editable": true,
    "slideshow": {
     "slide_type": "fragment"
    },
    "tags": []
   },
   "outputs": [],
   "source": [
    "from ast import *\n",
    "from typing import Literal\n",
    "import networkx as nx\n",
    "\n",
    "cf_code = \"\"\"\n",
    "def main():\n",
    "  x = 5\n",
    "  y = 1 + 1 + 3\n",
    "  if x > 0:\n",
    "    y = 10 * 10\n",
    "  else:\n",
    "    y = 20\n",
    "  return y\n",
    "\"\"\""
   ]
  },
  {
   "cell_type": "code",
   "execution_count": 4,
   "metadata": {
    "editable": true,
    "slideshow": {
     "slide_type": "subslide"
    },
    "tags": []
   },
   "outputs": [
    {
     "name": "stdout",
     "output_type": "stream",
     "text": [
      "def main():\n",
      "    x = 5\n",
      "    y = 5\n",
      "    if x > 0:\n",
      "        y = 100\n",
      "    else:\n",
      "        y = 20\n",
      "    return y\n"
     ]
    }
   ],
   "source": [
    "class ConstantFolder(NodeTransformer):\n",
    "    def visit_BinOp(self, node):\n",
    "        self.generic_visit(node)\n",
    "\n",
    "        match (node.left, node.op, node.right):\n",
    "            case (Constant(left), Add(), Constant(right)):\n",
    "                return Constant(left + right)\n",
    "\n",
    "            case (Constant(left), Sub(), Constant(right)):\n",
    "                return Constant(left - right)\n",
    "\n",
    "            case (Constant(left), Mult(), Constant(right)):\n",
    "                return Constant(left * right)\n",
    "\n",
    "            case (Constant(left), Div(), Constant(right)):\n",
    "                return Constant(left / right)\n",
    "\n",
    "            case (Constant(left), And(), Constant(right)):\n",
    "                return Constant(left and right)\n",
    "\n",
    "            case (Constant(left), Or(), Constant(right)):\n",
    "                return Constant(left or right)\n",
    "\n",
    "            case _:\n",
    "                return node\n",
    "\n",
    "\n",
    "print(unparse(ConstantFolder().visit(parse(cf_code))))"
   ]
  },
  {
   "cell_type": "markdown",
   "metadata": {
    "editable": false,
    "slideshow": {
     "slide_type": "slide"
    },
    "tags": []
   },
   "source": [
    "## Strength reduction"
   ]
  },
  {
   "cell_type": "code",
   "execution_count": 7,
   "metadata": {
    "editable": false,
    "slideshow": {
     "slide_type": "fragment"
    },
    "tags": []
   },
   "outputs": [],
   "source": [
    "sr_code = \"\"\"\n",
    "if x % 2 == 0:\n",
    "  print(\"even\")\n",
    "else:\n",
    "  print(\"odd\")\n",
    "\"\"\""
   ]
  },
  {
   "cell_type": "code",
   "execution_count": 8,
   "metadata": {
    "editable": true,
    "slideshow": {
     "slide_type": "subslide"
    },
    "tags": []
   },
   "outputs": [
    {
     "name": "stdout",
     "output_type": "stream",
     "text": [
      "if x & 1 == 0:\n",
      "    print('even')\n",
      "else:\n",
      "    print('odd')\n"
     ]
    }
   ],
   "source": [
    "class StrengthReducer(NodeTransformer):\n",
    "    def visit_BinOp(self, node):\n",
    "        self.generic_visit(node)\n",
    "\n",
    "        match (node.left, node.op, node.right):\n",
    "            case (right, Mod(), Constant(2)):\n",
    "                return BinOp(right, BitAnd(), Constant(1))\n",
    "\n",
    "            case (Constant(0), Add(), summand) | (summand, Add(), Constant(0)):\n",
    "                return summand\n",
    "\n",
    "            case (Constant(1), Mult(), factor) | (factor, Mult(), Constant(1)):\n",
    "                return factor\n",
    "\n",
    "            case (Constant(0), Sub(), subtrahend):\n",
    "                return UnaryOp(USub(), subtrahend)\n",
    "\n",
    "            case _:\n",
    "                return node\n",
    "\n",
    "print(unparse(StrengthReducer().visit(parse(sr_code))))"
   ]
  },
  {
   "cell_type": "markdown",
   "metadata": {
    "editable": false,
    "slideshow": {
     "slide_type": "slide"
    },
    "tags": []
   },
   "source": [
    "## Dead Code Elimination"
   ]
  },
  {
   "cell_type": "code",
   "execution_count": 9,
   "metadata": {
    "editable": true,
    "slideshow": {
     "slide_type": "fragment"
    },
    "tags": []
   },
   "outputs": [],
   "source": [
    "db_code = \"\"\"\n",
    "def main():\n",
    "  x = 5\n",
    "  y = 1 + 1 + 3\n",
    "  if False:\n",
    "    y = 10 * 10\n",
    "  else:\n",
    "    y = 20\n",
    "  return y\n",
    "\"\"\""
   ]
  },
  {
   "cell_type": "code",
   "execution_count": 10,
   "metadata": {
    "editable": true,
    "slideshow": {
     "slide_type": "subslide"
    },
    "tags": []
   },
   "outputs": [
    {
     "name": "stdout",
     "output_type": "stream",
     "text": [
      "def main():\n",
      "    x = 5\n",
      "    y = 1 + 1 + 3\n",
      "    y = 20\n",
      "    return y\n"
     ]
    }
   ],
   "source": [
    "class DeadBranchEliminator(NodeTransformer):\n",
    "    def visit_If(self, node):\n",
    "        self.generic_visit(node)\n",
    "        match node.test:\n",
    "            case Constant(condition):\n",
    "                return node.body if condition else node.orelse\n",
    "            case _:\n",
    "                return node\n",
    "\n",
    "print(unparse(DeadBranchEliminator().visit(parse(db_code))))"
   ]
  },
  {
   "cell_type": "code",
   "execution_count": 15,
   "metadata": {
    "editable": true,
    "slideshow": {
     "slide_type": "slide"
    },
    "tags": []
   },
   "outputs": [],
   "source": [
    "dc_code = \"\"\"\n",
    "def h():\n",
    "  g()\n",
    "\n",
    "def f():\n",
    "  h()\n",
    "\n",
    "def g():\n",
    "  h()\n",
    "\n",
    "def main():\n",
    "  h()\n",
    "\n",
    "\n",
    "main()\n",
    "\"\"\"\n"
   ]
  },
  {
   "cell_type": "code",
   "execution_count": null,
   "metadata": {
    "editable": true,
    "slideshow": {
     "slide_type": "subslide"
    },
    "tags": []
   },
   "outputs": [],
   "source": [
    "class FunctionEliminator(NodeTransformer):\n",
    "    def __init__(self, fns: set[str]):\n",
    "        super().__init__()\n",
    "        self.fns = fns\n",
    "\n",
    "    def visit_FunctionDef(self, node):\n",
    "        return None if node.name in self.fns else self.generic_visit(node)\n",
    "\n",
    "\n",
    "class DeadFunctionIdentifier(NodeVisitor):\n",
    "    def __init__(self, draw_graph=True) -> None:\n",
    "        super().__init__()\n",
    "        self.graph = nx.DiGraph()\n",
    "        self.graph.add_node(\"start\")\n",
    "        self.current_fn: FunctionDef | Literal[\"start\"] = \"start\"\n",
    "        self.draw_graph = draw_graph\n",
    "\n",
    "    def visit_FunctionDef(self, node):\n",
    "        self.graph.add_node(node.name)\n",
    "        parent_fn = self.current_fn\n",
    "        self.current_fn = node\n",
    "        self.generic_visit(node)\n",
    "        self.current_fn = parent_fn\n",
    "\n",
    "    def visit_Call(self, node):\n",
    "        match (self.current_fn, node.func):\n",
    "            case (FunctionDef(name=current_fn) | (str() as current_fn), Name(target)):\n",
    "                self.graph.add_edge(current_fn, target)\n",
    "\n",
    "        self.generic_visit(node)\n",
    "\n",
    "    def get_unreachable(self, node):\n",
    "        self.visit(node)\n",
    "        reachable = nx.descendants(self.graph, \"start\") | {\"start\"}\n",
    "        unreachable = set(self.graph.nodes) - reachable\n",
    "        if self.draw_graph:\n",
    "            pos = nx.spring_layout(self.graph)\n",
    "            nx.draw(self.graph, pos, with_labels=True, node_color=\"cyan\")\n",
    "            nx.draw_networkx_nodes(self.graph, pos, nodelist=unreachable, node_color=\"r\")\n",
    "        return unreachable\n",
    "\n",
    "\n",
    "class DeadFunctionEliminator:\n",
    "    def visit(self, node: AST) -> AST:\n",
    "        unreachable_fns = DeadFunctionIdentifier().get_unreachable(node)\n",
    "        return FunctionEliminator(unreachable_fns).visit(node)\n",
    "\n",
    "\n",
    "print(unparse(DeadFunctionEliminator().visit(parse(dc_code))))"
   ]
  },
  {
   "cell_type": "markdown",
   "metadata": {
    "editable": false,
    "slideshow": {
     "slide_type": "slide"
    },
    "tags": []
   },
   "source": [
    "# Fin"
   ]
  }
 ],
 "metadata": {
  "kernelspec": {
   "display_name": "Python 3 (ipykernel)",
   "language": "python",
   "name": "python3"
  },
  "language_info": {
   "codemirror_mode": {
    "name": "ipython",
    "version": 3
   },
   "file_extension": ".py",
   "mimetype": "text/x-python",
   "name": "python",
   "nbconvert_exporter": "python",
   "pygments_lexer": "ipython3",
   "version": "3.12.2"
  },
  "rise": {
   "center": false,
   "height": "100%",
   "scroll": true,
   "start_slideshow_at": "beginning"
  }
 },
 "nbformat": 4,
 "nbformat_minor": 4
}
